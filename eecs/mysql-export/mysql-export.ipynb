{
 "cells": [
  {
   "cell_type": "code",
   "execution_count": 2,
   "metadata": {},
   "outputs": [],
   "source": [
    "import pandas as pd\n",
    "df = pd.read_csv('eecs-general-topics.csv')"
   ]
  },
  {
   "cell_type": "code",
   "execution_count": 26,
   "metadata": {},
   "outputs": [
    {
     "name": "stdout",
     "output_type": "stream",
     "text": [
      "INSERT INTO `mit`.`prerequisites` (`course`, `prereq`) VALUES ('6.0002', '6.0001');\n",
      "INSERT INTO `mit`.`prerequisites` (`course`, `prereq`) VALUES ('6.003', '6.0001');\n",
      "INSERT INTO `mit`.`prerequisites` (`course`, `prereq`) VALUES ('6.004', '6.0001');\n",
      "INSERT INTO `mit`.`prerequisites` (`course`, `prereq`) VALUES ('6.006', '6.0001');\n",
      "INSERT INTO `mit`.`prerequisites` (`course`, `prereq`) VALUES ('6.006', '6.009');\n",
      "INSERT INTO `mit`.`prerequisites` (`course`, `prereq`) VALUES ('6.009', '6.0001');\n",
      "INSERT INTO `mit`.`prerequisites` (`course`, `prereq`) VALUES ('6.01', '6.0001');\n",
      "INSERT INTO `mit`.`prerequisites` (`course`, `prereq`) VALUES ('6.011', '6.003');\n",
      "INSERT INTO `mit`.`prerequisites` (`course`, `prereq`) VALUES ('6.011', '6.008');\n",
      "INSERT INTO `mit`.`prerequisites` (`course`, `prereq`) VALUES ('6.011', '6.041');\n",
      "INSERT INTO `mit`.`prerequisites` (`course`, `prereq`) VALUES ('6.012', '6.002');\n",
      "INSERT INTO `mit`.`prerequisites` (`course`, `prereq`) VALUES ('6.02', '6.0001');\n",
      "INSERT INTO `mit`.`prerequisites` (`course`, `prereq`) VALUES ('6.021[J]', '6.002');\n",
      "INSERT INTO `mit`.`prerequisites` (`course`, `prereq`) VALUES ('6.021[J]', '6.003');\n",
      "INSERT INTO `mit`.`prerequisites` (`course`, `prereq`) VALUES ('6.025[J]', '6.101');\n",
      "INSERT INTO `mit`.`prerequisites` (`course`, `prereq`) VALUES ('6.025[J]', '6.111');\n",
      "INSERT INTO `mit`.`prerequisites` (`course`, `prereq`) VALUES ('6.025[J]', '6.115');\n",
      "INSERT INTO `mit`.`prerequisites` (`course`, `prereq`) VALUES ('6.026[J]', '6.041');\n",
      "INSERT INTO `mit`.`prerequisites` (`course`, `prereq`) VALUES ('6.026[J]', '6.003');\n",
      "INSERT INTO `mit`.`prerequisites` (`course`, `prereq`) VALUES ('6.031', '6.009');\n",
      "INSERT INTO `mit`.`prerequisites` (`course`, `prereq`) VALUES ('6.033', '6.004');\n",
      "INSERT INTO `mit`.`prerequisites` (`course`, `prereq`) VALUES ('6.033', '6.009');\n",
      "INSERT INTO `mit`.`prerequisites` (`course`, `prereq`) VALUES ('6.034', '6.0001');\n",
      "INSERT INTO `mit`.`prerequisites` (`course`, `prereq`) VALUES ('6.035', '6.004');\n",
      "INSERT INTO `mit`.`prerequisites` (`course`, `prereq`) VALUES ('6.035', '6.031');\n",
      "INSERT INTO `mit`.`prerequisites` (`course`, `prereq`) VALUES ('6.036', '6.0001');\n",
      "INSERT INTO `mit`.`prerequisites` (`course`, `prereq`) VALUES ('6.036', '6.01');\n",
      "INSERT INTO `mit`.`prerequisites` (`course`, `prereq`) VALUES ('6.045[J]', '6.006');\n",
      "INSERT INTO `mit`.`prerequisites` (`course`, `prereq`) VALUES ('6.046[J]', '6.006');\n",
      "INSERT INTO `mit`.`prerequisites` (`course`, `prereq`) VALUES ('6.047', '6.006');\n",
      "INSERT INTO `mit`.`prerequisites` (`course`, `prereq`) VALUES ('6.049[J]', '6.0001');\n",
      "INSERT INTO `mit`.`prerequisites` (`course`, `prereq`) VALUES ('6.061', '6.002');\n",
      "INSERT INTO `mit`.`prerequisites` (`course`, `prereq`) VALUES ('6.061', '6.013');\n",
      "INSERT INTO `mit`.`prerequisites` (`course`, `prereq`) VALUES ('6.073[J]', '6.01');\n",
      "INSERT INTO `mit`.`prerequisites` (`course`, `prereq`) VALUES ('6.08', '6.0001');\n"
     ]
    }
   ],
   "source": [
    "count = 0\n",
    "\n",
    "while count < df.shape[0]:\n",
    "    \n",
    "    course = df[\"course_code\"][count]\n",
    "    \n",
    "    prereqs = df[\"prereq_courses\"][count]\n",
    "    prereq_list = prereqs.strip('][').split(', ')\n",
    "    \n",
    "    if prereq_list != ['']:\n",
    "        for prereq in prereq_list:\n",
    "            prereq = prereq.strip(\"\\'\")\n",
    "            print(f\"INSERT INTO `mit`.`prerequisites` (`course`, `prereq`) VALUES ('{course}', '{prereq}');\")\n",
    "        \n",
    "    count += 1"
   ]
  },
  {
   "cell_type": "code",
   "execution_count": null,
   "metadata": {},
   "outputs": [],
   "source": []
  }
 ],
 "metadata": {
  "interpreter": {
   "hash": "c6e4e9f98eb68ad3b7c296f83d20e6de614cb42e90992a65aa266555a3137d0d"
  },
  "kernelspec": {
   "display_name": "berkeley",
   "language": "python",
   "name": "berkeley"
  },
  "language_info": {
   "codemirror_mode": {
    "name": "ipython",
    "version": 3
   },
   "file_extension": ".py",
   "mimetype": "text/x-python",
   "name": "python",
   "nbconvert_exporter": "python",
   "pygments_lexer": "ipython3",
   "version": "3.9.10"
  },
  "orig_nbformat": 4
 },
 "nbformat": 4,
 "nbformat_minor": 2
}
